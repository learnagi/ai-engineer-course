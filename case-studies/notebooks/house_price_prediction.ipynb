{
 "cells": [
  {
   "cell_type": "markdown",
   "metadata": {},
   "source": [
    "# 波士顿房价预测实战\n",
    "\n",
    "本notebook演示了一个完整的机器学习项目流程，使用波士顿房价数据集进行房价预测。"
   ]
  },
  {
   "cell_type": "markdown",
   "metadata": {},
   "source": [
    "## 1. 环境准备"
   ]
  },
  {
   "cell_type": "code",
   "execution_count": null,
   "metadata": {},
   "source": [
    "# 所需库\n",
    "import numpy as np\n",
    "import pandas as pd\n",
    "import matplotlib.pyplot as plt\n",
    "import seaborn as sns\n",
    "from sklearn.datasets import load_boston\n",
    "from sklearn.model_selection import train_test_split, cross_val_score\n",
    "from sklearn.preprocessing import StandardScaler\n",
    "from sklearn.metrics import mean_squared_error, r2_score\n",
    "import xgboost as xgb\n",
    "import lightgbm as lgb\n",
    "from sklearn.ensemble import RandomForestRegressor\n",
    "import shap\n",
    "\n",
    "# 设置随机种子\n",
    "np.random.seed(42)\n",
    "\n",
    "# 设置显示选项\n",
    "pd.set_option('display.max_columns', None)\n",
    "pd.set_option('display.max_rows', 100)\n",
    "\n",
    "# 设置绘图风格\n",
    "plt.style.use('seaborn')\n",
    "%matplotlib inline"
   ]
  },
  {
   "cell_type": "markdown",
   "metadata": {},
   "source": [
    "## 2. 数据加载和探索"
   ]
  },
  {
   "cell_type": "code",
   "execution_count": null,
   "metadata": {},
   "source": [
    "# 加载数据\n",
    "boston = load_boston()\n",
    "data = pd.DataFrame(boston.data, columns=boston.feature_names)\n",
    "data['PRICE'] = boston.target\n",
    "\n",
    "print(\"数据集形状:\", data.shape)\n",
    "print(\"\\n特征说明:\")\n",
    "for name, desc in zip(boston.feature_names, boston.DESCR.split('\\n')[20:33]):\n",
    "    print(f\"{name}: {desc.strip()}\")"
   ]
  },
  {
   "cell_type": "code",
   "execution_count": null,
   "metadata": {},
   "source": [
    "# 数据概览\n",
    "print(\"基本统计信息:\")\n",
    "print(data.describe())\n",
    "\n",
    "# 检查缺失值\n",
    "print(\"\\n缺失值统计:\")\n",
    "print(data.isnull().sum())"
   ]
  },
  {
   "cell_type": "code",
   "execution_count": null,
   "metadata": {},
   "source": [
    "# 相关性分析\n",
    "plt.figure(figsize=(12, 8))\n",
    "sns.heatmap(data.corr(), annot=True, cmap='coolwarm')\n",
    "plt.title(\"特征相关性热力图\")\n",
    "plt.show()"
   ]
  },
  {
   "cell_type": "code",
   "execution_count": null,
   "metadata": {},
   "source": [
    "# 目标变量分布\n",
    "plt.figure(figsize=(10, 6))\n",
    "sns.histplot(data['PRICE'], bins=30)\n",
    "plt.title(\"房价分布\")\n",
    "plt.show()"
   ]
  },
  {
   "cell_type": "markdown",
   "metadata": {},
   "source": [
    "## 3. 特征工程"
   ]
  },
  {
   "cell_type": "code",
   "execution_count": null,
   "metadata": {},
   "source": [
    "def feature_engineering(data):\n",
    "    \"\"\"特征工程\"\"\"\n",
    "    # 创建特征副本\n",
    "    df = data.copy()\n",
    "    \n",
    "    # 处理偏态分布\n",
    "    skewed_features = ['CRIM', 'ZN', 'RM', 'DIS', 'B', 'LSTAT']\n",
    "    for feature in skewed_features:\n",
    "        df[feature] = np.log1p(df[feature])\n",
    "    \n",
    "    # 创建交互特征\n",
    "    df['RM_LSTAT'] = df['RM'] * df['LSTAT']\n",
    "    df['RM_AGE'] = df['RM'] * df['AGE']\n",
    "    df['LSTAT_AGE'] = df['LSTAT'] * df['AGE']\n",
    "    \n",
    "    # 多项式特征\n",
    "    df['RM_sq'] = df['RM'] ** 2\n",
    "    df['LSTAT_sq'] = df['LSTAT'] ** 2\n",
    "    \n",
    "    return df\n",
    "\n",
    "# 应用特征工程\n",
    "df_engineered = feature_engineering(data)"
   ]
  },
  {
   "cell_type": "code",
   "execution_count": null,
   "metadata": {},
   "source": [
    "# 特征选择\n",
    "from sklearn.feature_selection import SelectKBest, f_regression\n",
    "\n",
    "def select_features(X, y, k=15):\n",
    "    \"\"\"特征选择\"\"\"\n",
    "    selector = SelectKBest(score_func=f_regression, k=k)\n",
    "    X_selected = selector.fit_transform(X, y)\n",
    "    selected_features = X.columns[selector.get_support()].tolist()\n",
    "    \n",
    "    print(\"选中的特征:\", selected_features)\n",
    "    return X_selected, selected_features\n",
    "\n",
    "# 准备数据\n",
    "X = df_engineered.drop('PRICE', axis=1)\n",
    "y = df_engineered['PRICE']\n",
    "\n",
    "# 特征选择\n",
    "X_selected, selected_features = select_features(X, y)"
   ]
  },
  {
   "cell_type": "markdown",
   "metadata": {},
   "source": [
    "## 4. 模型训练和评估"
   ]
  },
  {
   "cell_type": "code",
   "execution_count": null,
   "metadata": {},
   "source": [
    "def evaluate_models(X, y):\n",
    "    \"\"\"评估多个基准模型\"\"\"\n",
    "    # 划分数据\n",
    "    X_train, X_test, y_train, y_test = train_test_split(\n",
    "        X, y, test_size=0.2, random_state=42\n",
    "    )\n",
    "    \n",
    "    # 标准化\n",
    "    scaler = StandardScaler()\n",
    "    X_train_scaled = scaler.fit_transform(X_train)\n",
    "    X_test_scaled = scaler.transform(X_test)\n",
    "    \n",
    "    # 定义模型\n",
    "    models = {\n",
    "        'Random Forest': RandomForestRegressor(random_state=42),\n",
    "        'XGBoost': xgb.XGBRegressor(random_state=42),\n",
    "        'LightGBM': lgb.LGBMRegressor(random_state=42)\n",
    "    }\n",
    "    \n",
    "    # 评估模型\n",
    "    results = {}\n",
    "    for name, model in models.items():\n",
    "        # 训练和预测\n",
    "        model.fit(X_train_scaled, y_train)\n",
    "        y_pred = model.predict(X_test_scaled)\n",
    "        \n",
    "        # 计算指标\n",
    "        mse = mean_squared_error(y_test, y_pred)\n",
    "        r2 = r2_score(y_test, y_pred)\n",
    "        \n",
    "        # 交叉验证\n",
    "        cv_scores = cross_val_score(\n",
    "            model, X_train_scaled, y_train,\n",
    "            cv=5, scoring='r2'\n",
    "        )\n",
    "        \n",
    "        results[name] = {\n",
    "            'MSE': mse,\n",
    "            'R2': r2,\n",
    "            'CV_mean': cv_scores.mean(),\n",
    "            'CV_std': cv_scores.std()\n",
    "        }\n",
    "    \n",
    "    return results, models\n",
    "\n",
    "# 评估模型\n",
    "results, models = evaluate_models(X_selected, y)\n",
    "print(\"\\n模型评估结果:\")\n",
    "for name, metrics in results.items():\n",
    "    print(f\"\\n{name}:\")\n",
    "    for metric, value in metrics.items():\n",
    "        print(f\"{metric}: {value:.4f}\")"
   ]
  },
  {
   "cell_type": "code",
   "execution_count": null,
   "metadata": {},
   "source": [
    "# 超参数优化\n",
    "from sklearn.model_selection import RandomizedSearchCV\n",
    "\n",
    "def optimize_lightgbm(X, y):\n",
    "    \"\"\"优化LightGBM模型\"\"\"\n",
    "    # 参数空间\n",
    "    param_dist = {\n",
    "        'n_estimators': np.arange(100, 1000, 100),\n",
    "        'max_depth': np.arange(3, 10),\n",
    "        'learning_rate': [0.01, 0.05, 0.1],\n",
    "        'num_leaves': np.arange(20, 100, 10),\n",
    "        'min_child_samples': np.arange(10, 50, 10),\n",
    "        'subsample': [0.6, 0.7, 0.8, 0.9],\n",
    "        'colsample_bytree': [0.6, 0.7, 0.8, 0.9]\n",
    "    }\n",
    "    \n",
    "    # 创建模型\n",
    "    lgb_model = lgb.LGBMRegressor(random_state=42)\n",
    "    \n",
    "    # 随机搜索\n",
    "    random_search = RandomizedSearchCV(\n",
    "        lgb_model,\n",
    "        param_distributions=param_dist,\n",
    "        n_iter=50,\n",
    "        cv=5,\n",
    "        scoring='neg_mean_squared_error',\n",
    "        n_jobs=-1,\n",
    "        random_state=42\n",
    "    )\n",
    "    \n",
    "    # 训练\n",
    "    random_search.fit(X, y)\n",
    "    \n",
    "    print(\"最佳参数:\", random_search.best_params_)\n",
    "    print(\"最佳得分:\", -random_search.best_score_)\n",
    "    \n",
    "    return random_search.best_estimator_\n",
    "\n",
    "# 优化LightGBM模型\n",
    "best_model = optimize_lightgbm(X_selected, y)"
   ]
  },
  {
   "cell_type": "markdown",
   "metadata": {},
   "source": [
    "## 5. 模型解释"
   ]
  },
  {
   "cell_type": "code",
   "execution_count": null,
   "metadata": {},
   "source": [
    "def plot_feature_importance(model, feature_names):\n",
    "    \"\"\"绘制特征重要性\"\"\"\n",
    "    importance = pd.DataFrame({\n",
    "        'feature': feature_names,\n",
    "        'importance': model.feature_importances_\n",
    "    })\n",
    "    importance = importance.sort_values('importance', ascending=False)\n",
    "    \n",
    "    plt.figure(figsize=(10, 6))\n",
    "    sns.barplot(x='importance', y='feature', data=importance)\n",
    "    plt.title(\"特征重要性\")\n",
    "    plt.show()\n",
    "    \n",
    "    return importance\n",
    "\n",
    "# 分析特征重要性\n",
    "importance = plot_feature_importance(best_model, selected_features)"
   ]
  },
  {
   "cell_type": "code",
   "execution_count": null,
   "metadata": {},
   "source": [
    "# SHAP值分析\n",
    "explainer = shap.TreeExplainer(best_model)\n",
    "shap_values = explainer.shap_values(X_selected)\n",
    "\n",
    "# 特征重要性\n",
    "plt.figure(figsize=(10, 6))\n",
    "shap.summary_plot(shap_values, X_selected)\n",
    "\n",
    "# 依赖图\n",
    "for feature in selected_features[:3]:  # 展示前三个重要特征\n",
    "    plt.figure(figsize=(10, 6))\n",
    "    shap.dependence_plot(feature, shap_values, X_selected)"
   ]
  },
  {
   "cell_type": "markdown",
   "metadata": {},
   "source": [
    "## 6. 模型部署"
   ]
  },
  {
   "cell_type": "code",
   "execution_count": null,
   "metadata": {},
   "source": [
    "import joblib\n",
    "\n",
    "# 保存模型\n",
    "joblib.dump(best_model, 'boston_house_model.pkl')\n",
    "joblib.dump(scaler, 'boston_house_scaler.pkl')\n",
    "\n",
    "# 预测函数\n",
    "def predict_price(features):\n",
    "    \"\"\"预测房价\"\"\"\n",
    "    # 加载模型和预处理器\n",
    "    model = joblib.load('boston_house_model.pkl')\n",
    "    scaler = joblib.load('boston_house_scaler.pkl')\n",
    "    \n",
    "    # 预处理\n",
    "    features_scaled = scaler.transform(features)\n",
    "    \n",
    "    # 预测\n",
    "    prediction = model.predict(features_scaled)\n",
    "    \n",
    "    return prediction\n",
    "\n",
    "# 示例预测\n",
    "sample_features = X_test_scaled[:1]\n",
    "predicted_price = predict_price(sample_features)\n",
    "print(f\"预测房价: ${predicted_price[0]:,.2f}\")"
   ]
  }
 ],
 "metadata": {
  "kernelspec": {
   "display_name": "Python 3",
   "language": "python",
   "name": "python3"
  },
  "language_info": {
   "codemirror_mode": {
    "name": "ipython",
    "version": 3
   },
   "file_extension": ".py",
   "mimetype": "text/x-python",
   "name": "python",
   "nbconvert_exporter": "python",
   "pygments_lexer": "ipython3",
   "version": "3.8.0"
  }
 },
 "nbformat": 4,
 "nbformat_minor": 4
}
